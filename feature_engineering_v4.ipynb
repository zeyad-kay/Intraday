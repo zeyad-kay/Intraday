{
 "cells": [
  {
   "cell_type": "code",
   "execution_count": 27,
   "metadata": {},
   "outputs": [],
   "source": [
    "import pandas as pd\n",
    "import datetime as dt\n",
    "from sklearn.preprocessing import LabelEncoder\n",
    "import numpy as np"
   ]
  },
  {
   "cell_type": "code",
   "execution_count": 28,
   "metadata": {},
   "outputs": [
    {
     "data": {
      "text/html": [
       "<div>\n",
       "<style scoped>\n",
       "    .dataframe tbody tr th:only-of-type {\n",
       "        vertical-align: middle;\n",
       "    }\n",
       "\n",
       "    .dataframe tbody tr th {\n",
       "        vertical-align: top;\n",
       "    }\n",
       "\n",
       "    .dataframe thead th {\n",
       "        text-align: right;\n",
       "    }\n",
       "</style>\n",
       "<table border=\"1\" class=\"dataframe\">\n",
       "  <thead>\n",
       "    <tr style=\"text-align: right;\">\n",
       "      <th></th>\n",
       "      <th>period</th>\n",
       "      <th>movement</th>\n",
       "      <th>chg</th>\n",
       "      <th>vpoc</th>\n",
       "      <th>total_volume</th>\n",
       "      <th>vpoc_price</th>\n",
       "      <th>tpoc_price</th>\n",
       "      <th>open</th>\n",
       "      <th>high</th>\n",
       "      <th>low</th>\n",
       "      <th>...</th>\n",
       "      <th>price_skew</th>\n",
       "      <th>price_kurt</th>\n",
       "      <th>vol_price_cv</th>\n",
       "      <th>vol_price_skew</th>\n",
       "      <th>vol_price_kurt</th>\n",
       "      <th>trapped_longs</th>\n",
       "      <th>trapped_shorts</th>\n",
       "      <th>trapped_shorts_at_extremes</th>\n",
       "      <th>trapped_longs_at_extremes</th>\n",
       "      <th>trapped_at_extremes_volume</th>\n",
       "    </tr>\n",
       "  </thead>\n",
       "  <tbody>\n",
       "    <tr>\n",
       "      <th>0</th>\n",
       "      <td>2024-04-22 09:30:00</td>\n",
       "      <td>0</td>\n",
       "      <td>-0.1265</td>\n",
       "      <td>0.247937</td>\n",
       "      <td>628143.0</td>\n",
       "      <td>497.88</td>\n",
       "      <td>497.74</td>\n",
       "      <td>497.84</td>\n",
       "      <td>498.07</td>\n",
       "      <td>497.17</td>\n",
       "      <td>...</td>\n",
       "      <td>-0.342</td>\n",
       "      <td>-0.787</td>\n",
       "      <td>2.370</td>\n",
       "      <td>8.560</td>\n",
       "      <td>78.235</td>\n",
       "      <td>1</td>\n",
       "      <td>0</td>\n",
       "      <td>0</td>\n",
       "      <td>0</td>\n",
       "      <td>0.000000</td>\n",
       "    </tr>\n",
       "    <tr>\n",
       "      <th>1</th>\n",
       "      <td>2024-04-22 09:35:00</td>\n",
       "      <td>1</td>\n",
       "      <td>0.0080</td>\n",
       "      <td>0.085825</td>\n",
       "      <td>206035.0</td>\n",
       "      <td>497.23</td>\n",
       "      <td>497.24</td>\n",
       "      <td>497.20</td>\n",
       "      <td>497.33</td>\n",
       "      <td>496.92</td>\n",
       "      <td>...</td>\n",
       "      <td>-0.335</td>\n",
       "      <td>-0.872</td>\n",
       "      <td>0.881</td>\n",
       "      <td>1.170</td>\n",
       "      <td>1.209</td>\n",
       "      <td>0</td>\n",
       "      <td>1</td>\n",
       "      <td>0</td>\n",
       "      <td>0</td>\n",
       "      <td>0.000000</td>\n",
       "    </tr>\n",
       "    <tr>\n",
       "      <th>2</th>\n",
       "      <td>2024-04-22 09:40:00</td>\n",
       "      <td>1</td>\n",
       "      <td>0.0080</td>\n",
       "      <td>0.075736</td>\n",
       "      <td>166394.0</td>\n",
       "      <td>497.11</td>\n",
       "      <td>497.00</td>\n",
       "      <td>497.24</td>\n",
       "      <td>497.34</td>\n",
       "      <td>496.74</td>\n",
       "      <td>...</td>\n",
       "      <td>-0.027</td>\n",
       "      <td>-0.635</td>\n",
       "      <td>1.006</td>\n",
       "      <td>1.646</td>\n",
       "      <td>2.898</td>\n",
       "      <td>0</td>\n",
       "      <td>1</td>\n",
       "      <td>1</td>\n",
       "      <td>0</td>\n",
       "      <td>0.905946</td>\n",
       "    </tr>\n",
       "    <tr>\n",
       "      <th>3</th>\n",
       "      <td>2024-04-22 09:45:00</td>\n",
       "      <td>1</td>\n",
       "      <td>0.1287</td>\n",
       "      <td>0.036437</td>\n",
       "      <td>159041.0</td>\n",
       "      <td>497.43</td>\n",
       "      <td>497.60</td>\n",
       "      <td>497.29</td>\n",
       "      <td>497.96</td>\n",
       "      <td>497.14</td>\n",
       "      <td>...</td>\n",
       "      <td>0.199</td>\n",
       "      <td>-0.706</td>\n",
       "      <td>0.777</td>\n",
       "      <td>0.935</td>\n",
       "      <td>0.057</td>\n",
       "      <td>0</td>\n",
       "      <td>1</td>\n",
       "      <td>0</td>\n",
       "      <td>0</td>\n",
       "      <td>0.000000</td>\n",
       "    </tr>\n",
       "    <tr>\n",
       "      <th>4</th>\n",
       "      <td>2024-04-22 09:50:00</td>\n",
       "      <td>0</td>\n",
       "      <td>-0.0301</td>\n",
       "      <td>0.082666</td>\n",
       "      <td>129267.0</td>\n",
       "      <td>498.00</td>\n",
       "      <td>497.86</td>\n",
       "      <td>497.94</td>\n",
       "      <td>498.01</td>\n",
       "      <td>497.68</td>\n",
       "      <td>...</td>\n",
       "      <td>0.304</td>\n",
       "      <td>-0.391</td>\n",
       "      <td>0.806</td>\n",
       "      <td>0.777</td>\n",
       "      <td>-0.466</td>\n",
       "      <td>1</td>\n",
       "      <td>0</td>\n",
       "      <td>0</td>\n",
       "      <td>0</td>\n",
       "      <td>0.000000</td>\n",
       "    </tr>\n",
       "    <tr>\n",
       "      <th>...</th>\n",
       "      <td>...</td>\n",
       "      <td>...</td>\n",
       "      <td>...</td>\n",
       "      <td>...</td>\n",
       "      <td>...</td>\n",
       "      <td>...</td>\n",
       "      <td>...</td>\n",
       "      <td>...</td>\n",
       "      <td>...</td>\n",
       "      <td>...</td>\n",
       "      <td>...</td>\n",
       "      <td>...</td>\n",
       "      <td>...</td>\n",
       "      <td>...</td>\n",
       "      <td>...</td>\n",
       "      <td>...</td>\n",
       "      <td>...</td>\n",
       "      <td>...</td>\n",
       "      <td>...</td>\n",
       "      <td>...</td>\n",
       "      <td>...</td>\n",
       "    </tr>\n",
       "    <tr>\n",
       "      <th>775</th>\n",
       "      <td>2024-05-03 15:35:00</td>\n",
       "      <td>1</td>\n",
       "      <td>0.0704</td>\n",
       "      <td>0.066151</td>\n",
       "      <td>148962.0</td>\n",
       "      <td>511.57</td>\n",
       "      <td>511.56</td>\n",
       "      <td>511.22</td>\n",
       "      <td>511.75</td>\n",
       "      <td>511.14</td>\n",
       "      <td>...</td>\n",
       "      <td>-0.976</td>\n",
       "      <td>-0.134</td>\n",
       "      <td>0.994</td>\n",
       "      <td>1.220</td>\n",
       "      <td>0.818</td>\n",
       "      <td>0</td>\n",
       "      <td>1</td>\n",
       "      <td>0</td>\n",
       "      <td>0</td>\n",
       "      <td>0.000000</td>\n",
       "    </tr>\n",
       "    <tr>\n",
       "      <th>776</th>\n",
       "      <td>2024-05-03 15:40:00</td>\n",
       "      <td>0</td>\n",
       "      <td>-0.0137</td>\n",
       "      <td>0.110382</td>\n",
       "      <td>90649.0</td>\n",
       "      <td>511.51</td>\n",
       "      <td>511.49</td>\n",
       "      <td>511.58</td>\n",
       "      <td>511.74</td>\n",
       "      <td>511.40</td>\n",
       "      <td>...</td>\n",
       "      <td>0.775</td>\n",
       "      <td>-0.221</td>\n",
       "      <td>0.948</td>\n",
       "      <td>1.551</td>\n",
       "      <td>2.396</td>\n",
       "      <td>0</td>\n",
       "      <td>0</td>\n",
       "      <td>1</td>\n",
       "      <td>0</td>\n",
       "      <td>0.575009</td>\n",
       "    </tr>\n",
       "    <tr>\n",
       "      <th>777</th>\n",
       "      <td>2024-05-03 15:45:00</td>\n",
       "      <td>0</td>\n",
       "      <td>-0.0665</td>\n",
       "      <td>0.089017</td>\n",
       "      <td>187493.0</td>\n",
       "      <td>511.50</td>\n",
       "      <td>511.50</td>\n",
       "      <td>511.51</td>\n",
       "      <td>511.57</td>\n",
       "      <td>511.16</td>\n",
       "      <td>...</td>\n",
       "      <td>-0.690</td>\n",
       "      <td>-0.326</td>\n",
       "      <td>0.935</td>\n",
       "      <td>1.016</td>\n",
       "      <td>0.284</td>\n",
       "      <td>1</td>\n",
       "      <td>0</td>\n",
       "      <td>0</td>\n",
       "      <td>0</td>\n",
       "      <td>0.000000</td>\n",
       "    </tr>\n",
       "    <tr>\n",
       "      <th>778</th>\n",
       "      <td>2024-05-03 15:50:00</td>\n",
       "      <td>1</td>\n",
       "      <td>0.0685</td>\n",
       "      <td>0.068252</td>\n",
       "      <td>341953.0</td>\n",
       "      <td>511.40</td>\n",
       "      <td>511.40</td>\n",
       "      <td>511.17</td>\n",
       "      <td>511.72</td>\n",
       "      <td>511.17</td>\n",
       "      <td>...</td>\n",
       "      <td>0.020</td>\n",
       "      <td>-0.730</td>\n",
       "      <td>0.859</td>\n",
       "      <td>1.252</td>\n",
       "      <td>1.373</td>\n",
       "      <td>0</td>\n",
       "      <td>1</td>\n",
       "      <td>0</td>\n",
       "      <td>0</td>\n",
       "      <td>0.000000</td>\n",
       "    </tr>\n",
       "    <tr>\n",
       "      <th>779</th>\n",
       "      <td>2024-05-03 15:55:00</td>\n",
       "      <td>0</td>\n",
       "      <td>-0.0430</td>\n",
       "      <td>0.069245</td>\n",
       "      <td>1070612.0</td>\n",
       "      <td>511.27</td>\n",
       "      <td>511.30</td>\n",
       "      <td>511.51</td>\n",
       "      <td>511.51</td>\n",
       "      <td>511.14</td>\n",
       "      <td>...</td>\n",
       "      <td>0.274</td>\n",
       "      <td>-0.327</td>\n",
       "      <td>0.842</td>\n",
       "      <td>0.302</td>\n",
       "      <td>-1.209</td>\n",
       "      <td>0</td>\n",
       "      <td>1</td>\n",
       "      <td>0</td>\n",
       "      <td>0</td>\n",
       "      <td>0.000000</td>\n",
       "    </tr>\n",
       "  </tbody>\n",
       "</table>\n",
       "<p>780 rows × 31 columns</p>\n",
       "</div>"
      ],
      "text/plain": [
       "                  period  movement     chg      vpoc  total_volume  \\\n",
       "0    2024-04-22 09:30:00         0 -0.1265  0.247937      628143.0   \n",
       "1    2024-04-22 09:35:00         1  0.0080  0.085825      206035.0   \n",
       "2    2024-04-22 09:40:00         1  0.0080  0.075736      166394.0   \n",
       "3    2024-04-22 09:45:00         1  0.1287  0.036437      159041.0   \n",
       "4    2024-04-22 09:50:00         0 -0.0301  0.082666      129267.0   \n",
       "..                   ...       ...     ...       ...           ...   \n",
       "775  2024-05-03 15:35:00         1  0.0704  0.066151      148962.0   \n",
       "776  2024-05-03 15:40:00         0 -0.0137  0.110382       90649.0   \n",
       "777  2024-05-03 15:45:00         0 -0.0665  0.089017      187493.0   \n",
       "778  2024-05-03 15:50:00         1  0.0685  0.068252      341953.0   \n",
       "779  2024-05-03 15:55:00         0 -0.0430  0.069245     1070612.0   \n",
       "\n",
       "     vpoc_price  tpoc_price    open    high     low  ...  price_skew  \\\n",
       "0        497.88      497.74  497.84  498.07  497.17  ...      -0.342   \n",
       "1        497.23      497.24  497.20  497.33  496.92  ...      -0.335   \n",
       "2        497.11      497.00  497.24  497.34  496.74  ...      -0.027   \n",
       "3        497.43      497.60  497.29  497.96  497.14  ...       0.199   \n",
       "4        498.00      497.86  497.94  498.01  497.68  ...       0.304   \n",
       "..          ...         ...     ...     ...     ...  ...         ...   \n",
       "775      511.57      511.56  511.22  511.75  511.14  ...      -0.976   \n",
       "776      511.51      511.49  511.58  511.74  511.40  ...       0.775   \n",
       "777      511.50      511.50  511.51  511.57  511.16  ...      -0.690   \n",
       "778      511.40      511.40  511.17  511.72  511.17  ...       0.020   \n",
       "779      511.27      511.30  511.51  511.51  511.14  ...       0.274   \n",
       "\n",
       "     price_kurt  vol_price_cv  vol_price_skew  vol_price_kurt  trapped_longs  \\\n",
       "0        -0.787         2.370           8.560          78.235              1   \n",
       "1        -0.872         0.881           1.170           1.209              0   \n",
       "2        -0.635         1.006           1.646           2.898              0   \n",
       "3        -0.706         0.777           0.935           0.057              0   \n",
       "4        -0.391         0.806           0.777          -0.466              1   \n",
       "..          ...           ...             ...             ...            ...   \n",
       "775      -0.134         0.994           1.220           0.818              0   \n",
       "776      -0.221         0.948           1.551           2.396              0   \n",
       "777      -0.326         0.935           1.016           0.284              1   \n",
       "778      -0.730         0.859           1.252           1.373              0   \n",
       "779      -0.327         0.842           0.302          -1.209              0   \n",
       "\n",
       "     trapped_shorts  trapped_shorts_at_extremes  trapped_longs_at_extremes  \\\n",
       "0                 0                           0                          0   \n",
       "1                 1                           0                          0   \n",
       "2                 1                           1                          0   \n",
       "3                 1                           0                          0   \n",
       "4                 0                           0                          0   \n",
       "..              ...                         ...                        ...   \n",
       "775               1                           0                          0   \n",
       "776               0                           1                          0   \n",
       "777               0                           0                          0   \n",
       "778               1                           0                          0   \n",
       "779               1                           0                          0   \n",
       "\n",
       "     trapped_at_extremes_volume  \n",
       "0                      0.000000  \n",
       "1                      0.000000  \n",
       "2                      0.905946  \n",
       "3                      0.000000  \n",
       "4                      0.000000  \n",
       "..                          ...  \n",
       "775                    0.000000  \n",
       "776                    0.575009  \n",
       "777                    0.000000  \n",
       "778                    0.000000  \n",
       "779                    0.000000  \n",
       "\n",
       "[780 rows x 31 columns]"
      ]
     },
     "execution_count": 28,
     "metadata": {},
     "output_type": "execute_result"
    }
   ],
   "source": [
    "df = pd.read_csv('historical_spy_trades_agg.csv')\n",
    "df"
   ]
  },
  {
   "cell_type": "code",
   "execution_count": 29,
   "metadata": {},
   "outputs": [
    {
     "data": {
      "application/vnd.plotly.v1+json": {
       "config": {
        "plotlyServerURL": "https://plot.ly"
       },
       "data": [
        {
         "close": [
          510.18,
          510.22,
          511.04,
          511.39,
          511.68,
          511.56,
          509.92,
          510.13,
          509.59,
          509.63,
          509.54,
          509.66,
          509.15,
          509.6,
          510.27,
          510.07,
          509.29,
          509.17,
          509.11
         ],
         "high": [
          511.39,
          510.27,
          511.12,
          511.59,
          511.79,
          511.98,
          512.55,
          510.8,
          510.41,
          510.1,
          509.76,
          510.15,
          510.23,
          509.65,
          510.33,
          510.42,
          510.1,
          509.56,
          509.46
         ],
         "hovertext": [
          [
           0,
           1
          ],
          [
           1,
           0
          ],
          [
           0,
           0
          ],
          [
           0,
           1
          ],
          [
           0,
           0
          ],
          [
           0,
           1
          ],
          [
           0,
           0
          ],
          [
           0,
           0
          ],
          [
           1,
           0
          ],
          [
           0,
           1
          ],
          [
           1,
           0
          ],
          [
           1,
           0
          ],
          [
           0,
           0
          ],
          [
           0,
           0
          ],
          [
           1,
           0
          ],
          [
           0,
           0
          ],
          [
           0,
           0
          ],
          [
           0,
           0
          ],
          [
           0,
           1
          ]
         ],
         "low": [
          510.14,
          509.61,
          510.19,
          510.84,
          510.95,
          511.47,
          509.69,
          509.53,
          509.23,
          509.42,
          508.94,
          508.64,
          509.08,
          508.68,
          509.29,
          509.96,
          509.11,
          509.08,
          509
         ],
         "open": [
          511.13,
          510.18,
          510.21,
          511.04,
          511.39,
          511.68,
          511.59,
          509.92,
          510.13,
          509.68,
          509.66,
          509.51,
          509.67,
          509.17,
          509.59,
          510.28,
          510.07,
          509.31,
          509.19
         ],
         "type": "candlestick",
         "x": [
          "2024-05-03T09:30:00",
          "2024-05-03T09:35:00",
          "2024-05-03T09:40:00",
          "2024-05-03T09:45:00",
          "2024-05-03T09:50:00",
          "2024-05-03T09:55:00",
          "2024-05-03T10:00:00",
          "2024-05-03T10:05:00",
          "2024-05-03T10:10:00",
          "2024-05-03T10:15:00",
          "2024-05-03T10:20:00",
          "2024-05-03T10:25:00",
          "2024-05-03T10:30:00",
          "2024-05-03T10:35:00",
          "2024-05-03T10:40:00",
          "2024-05-03T10:45:00",
          "2024-05-03T10:50:00",
          "2024-05-03T10:55:00",
          "2024-05-03T11:00:00"
         ]
        },
        {
         "marker": {
          "color": "yellow",
          "size": 10,
          "symbol": "arrow-right"
         },
         "mode": "markers",
         "type": "scatter",
         "x": [
          "2024-05-03T09:30:00",
          "2024-05-03T09:35:00",
          "2024-05-03T09:40:00",
          "2024-05-03T09:45:00",
          "2024-05-03T09:50:00",
          "2024-05-03T09:55:00",
          "2024-05-03T10:00:00",
          "2024-05-03T10:05:00",
          "2024-05-03T10:10:00",
          "2024-05-03T10:15:00",
          "2024-05-03T10:20:00",
          "2024-05-03T10:25:00",
          "2024-05-03T10:30:00",
          "2024-05-03T10:35:00",
          "2024-05-03T10:40:00",
          "2024-05-03T10:45:00",
          "2024-05-03T10:50:00",
          "2024-05-03T10:55:00",
          "2024-05-03T11:00:00"
         ],
         "y": [
          511.13,
          510.15,
          510.89,
          511.42,
          511,
          511.8,
          511.03,
          509.96,
          509.51,
          509.82,
          509.31,
          509.08,
          509.86,
          509.5,
          509.48,
          510.25,
          509.73,
          509.2,
          509.25
         ]
        },
        {
         "marker": {
          "color": "violet",
          "size": 10,
          "symbol": "arrow-right"
         },
         "mode": "markers",
         "type": "scatter",
         "x": [
          "2024-05-03T09:30:00",
          "2024-05-03T09:35:00",
          "2024-05-03T09:40:00",
          "2024-05-03T09:45:00",
          "2024-05-03T09:50:00",
          "2024-05-03T09:55:00",
          "2024-05-03T10:00:00",
          "2024-05-03T10:05:00",
          "2024-05-03T10:10:00",
          "2024-05-03T10:15:00",
          "2024-05-03T10:20:00",
          "2024-05-03T10:25:00",
          "2024-05-03T10:30:00",
          "2024-05-03T10:35:00",
          "2024-05-03T10:40:00",
          "2024-05-03T10:45:00",
          "2024-05-03T10:50:00",
          "2024-05-03T10:55:00",
          "2024-05-03T11:00:00"
         ],
         "y": [
          511.24,
          510.15,
          510.99,
          511.4,
          511.7,
          511.8,
          510.7,
          510.5,
          509.51,
          509.84,
          509.31,
          508.72,
          509.19,
          509.49,
          509.48,
          510.25,
          509.73,
          509.43,
          509.25
         ]
        }
       ],
       "layout": {
        "autosize": false,
        "height": 1000,
        "template": {
         "data": {
          "bar": [
           {
            "error_x": {
             "color": "#2a3f5f"
            },
            "error_y": {
             "color": "#2a3f5f"
            },
            "marker": {
             "line": {
              "color": "#E5ECF6",
              "width": 0.5
             },
             "pattern": {
              "fillmode": "overlay",
              "size": 10,
              "solidity": 0.2
             }
            },
            "type": "bar"
           }
          ],
          "barpolar": [
           {
            "marker": {
             "line": {
              "color": "#E5ECF6",
              "width": 0.5
             },
             "pattern": {
              "fillmode": "overlay",
              "size": 10,
              "solidity": 0.2
             }
            },
            "type": "barpolar"
           }
          ],
          "carpet": [
           {
            "aaxis": {
             "endlinecolor": "#2a3f5f",
             "gridcolor": "white",
             "linecolor": "white",
             "minorgridcolor": "white",
             "startlinecolor": "#2a3f5f"
            },
            "baxis": {
             "endlinecolor": "#2a3f5f",
             "gridcolor": "white",
             "linecolor": "white",
             "minorgridcolor": "white",
             "startlinecolor": "#2a3f5f"
            },
            "type": "carpet"
           }
          ],
          "choropleth": [
           {
            "colorbar": {
             "outlinewidth": 0,
             "ticks": ""
            },
            "type": "choropleth"
           }
          ],
          "contour": [
           {
            "colorbar": {
             "outlinewidth": 0,
             "ticks": ""
            },
            "colorscale": [
             [
              0,
              "#0d0887"
             ],
             [
              0.1111111111111111,
              "#46039f"
             ],
             [
              0.2222222222222222,
              "#7201a8"
             ],
             [
              0.3333333333333333,
              "#9c179e"
             ],
             [
              0.4444444444444444,
              "#bd3786"
             ],
             [
              0.5555555555555556,
              "#d8576b"
             ],
             [
              0.6666666666666666,
              "#ed7953"
             ],
             [
              0.7777777777777778,
              "#fb9f3a"
             ],
             [
              0.8888888888888888,
              "#fdca26"
             ],
             [
              1,
              "#f0f921"
             ]
            ],
            "type": "contour"
           }
          ],
          "contourcarpet": [
           {
            "colorbar": {
             "outlinewidth": 0,
             "ticks": ""
            },
            "type": "contourcarpet"
           }
          ],
          "heatmap": [
           {
            "colorbar": {
             "outlinewidth": 0,
             "ticks": ""
            },
            "colorscale": [
             [
              0,
              "#0d0887"
             ],
             [
              0.1111111111111111,
              "#46039f"
             ],
             [
              0.2222222222222222,
              "#7201a8"
             ],
             [
              0.3333333333333333,
              "#9c179e"
             ],
             [
              0.4444444444444444,
              "#bd3786"
             ],
             [
              0.5555555555555556,
              "#d8576b"
             ],
             [
              0.6666666666666666,
              "#ed7953"
             ],
             [
              0.7777777777777778,
              "#fb9f3a"
             ],
             [
              0.8888888888888888,
              "#fdca26"
             ],
             [
              1,
              "#f0f921"
             ]
            ],
            "type": "heatmap"
           }
          ],
          "heatmapgl": [
           {
            "colorbar": {
             "outlinewidth": 0,
             "ticks": ""
            },
            "colorscale": [
             [
              0,
              "#0d0887"
             ],
             [
              0.1111111111111111,
              "#46039f"
             ],
             [
              0.2222222222222222,
              "#7201a8"
             ],
             [
              0.3333333333333333,
              "#9c179e"
             ],
             [
              0.4444444444444444,
              "#bd3786"
             ],
             [
              0.5555555555555556,
              "#d8576b"
             ],
             [
              0.6666666666666666,
              "#ed7953"
             ],
             [
              0.7777777777777778,
              "#fb9f3a"
             ],
             [
              0.8888888888888888,
              "#fdca26"
             ],
             [
              1,
              "#f0f921"
             ]
            ],
            "type": "heatmapgl"
           }
          ],
          "histogram": [
           {
            "marker": {
             "pattern": {
              "fillmode": "overlay",
              "size": 10,
              "solidity": 0.2
             }
            },
            "type": "histogram"
           }
          ],
          "histogram2d": [
           {
            "colorbar": {
             "outlinewidth": 0,
             "ticks": ""
            },
            "colorscale": [
             [
              0,
              "#0d0887"
             ],
             [
              0.1111111111111111,
              "#46039f"
             ],
             [
              0.2222222222222222,
              "#7201a8"
             ],
             [
              0.3333333333333333,
              "#9c179e"
             ],
             [
              0.4444444444444444,
              "#bd3786"
             ],
             [
              0.5555555555555556,
              "#d8576b"
             ],
             [
              0.6666666666666666,
              "#ed7953"
             ],
             [
              0.7777777777777778,
              "#fb9f3a"
             ],
             [
              0.8888888888888888,
              "#fdca26"
             ],
             [
              1,
              "#f0f921"
             ]
            ],
            "type": "histogram2d"
           }
          ],
          "histogram2dcontour": [
           {
            "colorbar": {
             "outlinewidth": 0,
             "ticks": ""
            },
            "colorscale": [
             [
              0,
              "#0d0887"
             ],
             [
              0.1111111111111111,
              "#46039f"
             ],
             [
              0.2222222222222222,
              "#7201a8"
             ],
             [
              0.3333333333333333,
              "#9c179e"
             ],
             [
              0.4444444444444444,
              "#bd3786"
             ],
             [
              0.5555555555555556,
              "#d8576b"
             ],
             [
              0.6666666666666666,
              "#ed7953"
             ],
             [
              0.7777777777777778,
              "#fb9f3a"
             ],
             [
              0.8888888888888888,
              "#fdca26"
             ],
             [
              1,
              "#f0f921"
             ]
            ],
            "type": "histogram2dcontour"
           }
          ],
          "mesh3d": [
           {
            "colorbar": {
             "outlinewidth": 0,
             "ticks": ""
            },
            "type": "mesh3d"
           }
          ],
          "parcoords": [
           {
            "line": {
             "colorbar": {
              "outlinewidth": 0,
              "ticks": ""
             }
            },
            "type": "parcoords"
           }
          ],
          "pie": [
           {
            "automargin": true,
            "type": "pie"
           }
          ],
          "scatter": [
           {
            "fillpattern": {
             "fillmode": "overlay",
             "size": 10,
             "solidity": 0.2
            },
            "type": "scatter"
           }
          ],
          "scatter3d": [
           {
            "line": {
             "colorbar": {
              "outlinewidth": 0,
              "ticks": ""
             }
            },
            "marker": {
             "colorbar": {
              "outlinewidth": 0,
              "ticks": ""
             }
            },
            "type": "scatter3d"
           }
          ],
          "scattercarpet": [
           {
            "marker": {
             "colorbar": {
              "outlinewidth": 0,
              "ticks": ""
             }
            },
            "type": "scattercarpet"
           }
          ],
          "scattergeo": [
           {
            "marker": {
             "colorbar": {
              "outlinewidth": 0,
              "ticks": ""
             }
            },
            "type": "scattergeo"
           }
          ],
          "scattergl": [
           {
            "marker": {
             "colorbar": {
              "outlinewidth": 0,
              "ticks": ""
             }
            },
            "type": "scattergl"
           }
          ],
          "scattermapbox": [
           {
            "marker": {
             "colorbar": {
              "outlinewidth": 0,
              "ticks": ""
             }
            },
            "type": "scattermapbox"
           }
          ],
          "scatterpolar": [
           {
            "marker": {
             "colorbar": {
              "outlinewidth": 0,
              "ticks": ""
             }
            },
            "type": "scatterpolar"
           }
          ],
          "scatterpolargl": [
           {
            "marker": {
             "colorbar": {
              "outlinewidth": 0,
              "ticks": ""
             }
            },
            "type": "scatterpolargl"
           }
          ],
          "scatterternary": [
           {
            "marker": {
             "colorbar": {
              "outlinewidth": 0,
              "ticks": ""
             }
            },
            "type": "scatterternary"
           }
          ],
          "surface": [
           {
            "colorbar": {
             "outlinewidth": 0,
             "ticks": ""
            },
            "colorscale": [
             [
              0,
              "#0d0887"
             ],
             [
              0.1111111111111111,
              "#46039f"
             ],
             [
              0.2222222222222222,
              "#7201a8"
             ],
             [
              0.3333333333333333,
              "#9c179e"
             ],
             [
              0.4444444444444444,
              "#bd3786"
             ],
             [
              0.5555555555555556,
              "#d8576b"
             ],
             [
              0.6666666666666666,
              "#ed7953"
             ],
             [
              0.7777777777777778,
              "#fb9f3a"
             ],
             [
              0.8888888888888888,
              "#fdca26"
             ],
             [
              1,
              "#f0f921"
             ]
            ],
            "type": "surface"
           }
          ],
          "table": [
           {
            "cells": {
             "fill": {
              "color": "#EBF0F8"
             },
             "line": {
              "color": "white"
             }
            },
            "header": {
             "fill": {
              "color": "#C8D4E3"
             },
             "line": {
              "color": "white"
             }
            },
            "type": "table"
           }
          ]
         },
         "layout": {
          "annotationdefaults": {
           "arrowcolor": "#2a3f5f",
           "arrowhead": 0,
           "arrowwidth": 1
          },
          "autotypenumbers": "strict",
          "coloraxis": {
           "colorbar": {
            "outlinewidth": 0,
            "ticks": ""
           }
          },
          "colorscale": {
           "diverging": [
            [
             0,
             "#8e0152"
            ],
            [
             0.1,
             "#c51b7d"
            ],
            [
             0.2,
             "#de77ae"
            ],
            [
             0.3,
             "#f1b6da"
            ],
            [
             0.4,
             "#fde0ef"
            ],
            [
             0.5,
             "#f7f7f7"
            ],
            [
             0.6,
             "#e6f5d0"
            ],
            [
             0.7,
             "#b8e186"
            ],
            [
             0.8,
             "#7fbc41"
            ],
            [
             0.9,
             "#4d9221"
            ],
            [
             1,
             "#276419"
            ]
           ],
           "sequential": [
            [
             0,
             "#0d0887"
            ],
            [
             0.1111111111111111,
             "#46039f"
            ],
            [
             0.2222222222222222,
             "#7201a8"
            ],
            [
             0.3333333333333333,
             "#9c179e"
            ],
            [
             0.4444444444444444,
             "#bd3786"
            ],
            [
             0.5555555555555556,
             "#d8576b"
            ],
            [
             0.6666666666666666,
             "#ed7953"
            ],
            [
             0.7777777777777778,
             "#fb9f3a"
            ],
            [
             0.8888888888888888,
             "#fdca26"
            ],
            [
             1,
             "#f0f921"
            ]
           ],
           "sequentialminus": [
            [
             0,
             "#0d0887"
            ],
            [
             0.1111111111111111,
             "#46039f"
            ],
            [
             0.2222222222222222,
             "#7201a8"
            ],
            [
             0.3333333333333333,
             "#9c179e"
            ],
            [
             0.4444444444444444,
             "#bd3786"
            ],
            [
             0.5555555555555556,
             "#d8576b"
            ],
            [
             0.6666666666666666,
             "#ed7953"
            ],
            [
             0.7777777777777778,
             "#fb9f3a"
            ],
            [
             0.8888888888888888,
             "#fdca26"
            ],
            [
             1,
             "#f0f921"
            ]
           ]
          },
          "colorway": [
           "#636efa",
           "#EF553B",
           "#00cc96",
           "#ab63fa",
           "#FFA15A",
           "#19d3f3",
           "#FF6692",
           "#B6E880",
           "#FF97FF",
           "#FECB52"
          ],
          "font": {
           "color": "#2a3f5f"
          },
          "geo": {
           "bgcolor": "white",
           "lakecolor": "white",
           "landcolor": "#E5ECF6",
           "showlakes": true,
           "showland": true,
           "subunitcolor": "white"
          },
          "hoverlabel": {
           "align": "left"
          },
          "hovermode": "closest",
          "mapbox": {
           "style": "light"
          },
          "paper_bgcolor": "white",
          "plot_bgcolor": "#E5ECF6",
          "polar": {
           "angularaxis": {
            "gridcolor": "white",
            "linecolor": "white",
            "ticks": ""
           },
           "bgcolor": "#E5ECF6",
           "radialaxis": {
            "gridcolor": "white",
            "linecolor": "white",
            "ticks": ""
           }
          },
          "scene": {
           "xaxis": {
            "backgroundcolor": "#E5ECF6",
            "gridcolor": "white",
            "gridwidth": 2,
            "linecolor": "white",
            "showbackground": true,
            "ticks": "",
            "zerolinecolor": "white"
           },
           "yaxis": {
            "backgroundcolor": "#E5ECF6",
            "gridcolor": "white",
            "gridwidth": 2,
            "linecolor": "white",
            "showbackground": true,
            "ticks": "",
            "zerolinecolor": "white"
           },
           "zaxis": {
            "backgroundcolor": "#E5ECF6",
            "gridcolor": "white",
            "gridwidth": 2,
            "linecolor": "white",
            "showbackground": true,
            "ticks": "",
            "zerolinecolor": "white"
           }
          },
          "shapedefaults": {
           "line": {
            "color": "#2a3f5f"
           }
          },
          "ternary": {
           "aaxis": {
            "gridcolor": "white",
            "linecolor": "white",
            "ticks": ""
           },
           "baxis": {
            "gridcolor": "white",
            "linecolor": "white",
            "ticks": ""
           },
           "bgcolor": "#E5ECF6",
           "caxis": {
            "gridcolor": "white",
            "linecolor": "white",
            "ticks": ""
           }
          },
          "title": {
           "x": 0.05
          },
          "xaxis": {
           "automargin": true,
           "gridcolor": "white",
           "linecolor": "white",
           "ticks": "",
           "title": {
            "standoff": 15
           },
           "zerolinecolor": "white",
           "zerolinewidth": 2
          },
          "yaxis": {
           "automargin": true,
           "gridcolor": "white",
           "linecolor": "white",
           "ticks": "",
           "title": {
            "standoff": 15
           },
           "zerolinecolor": "white",
           "zerolinewidth": 2
          }
         }
        },
        "width": 2000
       }
      }
     },
     "metadata": {},
     "output_type": "display_data"
    }
   ],
   "source": [
    "import plotly.graph_objects as go\n",
    "import matplotlib.pyplot as plt\n",
    "\n",
    "df1 = pd.read_csv('historical_spy_trades_agg.csv')\n",
    "\n",
    "df1 = df1.set_index(\"period\")\n",
    "df1.index = pd.to_datetime(df1.index)\n",
    "df1 = df1.loc[\"2024-05-03 09:30:00\":\"2024-05-03 11:00:00\"]\n",
    "\n",
    "layout = go.Layout(\n",
    "    autosize=False,\n",
    "    width=2000,\n",
    "    height=1000,\n",
    ")\n",
    "\n",
    "fig = go.Figure(data=[go.Candlestick(x=df1.index,\n",
    "                open=df1['open'],\n",
    "                high=df1['high'],\n",
    "                low=df1['low'],\n",
    "                close=df1['close'],\n",
    "                hovertext=df1[['trapped_shorts_at_extremes','trapped_longs_at_extremes']]\n",
    "                ),\n",
    "                go.Scatter(x=df1.index, y=df1.vpoc_price, mode=\"markers\",marker=dict(size=10, symbol=\"arrow-right\", color='yellow')),\n",
    "                go.Scatter(x=df1.index, y=df1.tpoc_price, mode=\"markers\",marker=dict(size=10, symbol=\"arrow-right\", color='violet'))\n",
    "                ],layout=layout)\n",
    "fig.show()"
   ]
  },
  {
   "cell_type": "code",
   "execution_count": 30,
   "metadata": {},
   "outputs": [
    {
     "data": {
      "text/html": [
       "<div>\n",
       "<style scoped>\n",
       "    .dataframe tbody tr th:only-of-type {\n",
       "        vertical-align: middle;\n",
       "    }\n",
       "\n",
       "    .dataframe tbody tr th {\n",
       "        vertical-align: top;\n",
       "    }\n",
       "\n",
       "    .dataframe thead th {\n",
       "        text-align: right;\n",
       "    }\n",
       "</style>\n",
       "<table border=\"1\" class=\"dataframe\">\n",
       "  <thead>\n",
       "    <tr style=\"text-align: right;\">\n",
       "      <th></th>\n",
       "      <th>period</th>\n",
       "      <th>movement</th>\n",
       "      <th>movement_prev_period</th>\n",
       "      <th>chg</th>\n",
       "      <th>chg_prev_period</th>\n",
       "      <th>vpoc_prev_period</th>\n",
       "      <th>total_volume_prev_period</th>\n",
       "      <th>vpoc_price_prev_period</th>\n",
       "      <th>tpoc_price_prev_period</th>\n",
       "      <th>open_prev_period</th>\n",
       "      <th>...</th>\n",
       "      <th>price_skew_prev_period</th>\n",
       "      <th>price_kurt_prev_period</th>\n",
       "      <th>vol_price_cv_prev_period</th>\n",
       "      <th>vol_price_skew_prev_period</th>\n",
       "      <th>vol_price_kurt_prev_period</th>\n",
       "      <th>trapped_longs_prev_period</th>\n",
       "      <th>trapped_shorts_prev_period</th>\n",
       "      <th>trapped_shorts_at_extremes_prev_period</th>\n",
       "      <th>trapped_longs_at_extremes_prev_period</th>\n",
       "      <th>trapped_at_extremes_volume_prev_period</th>\n",
       "    </tr>\n",
       "  </thead>\n",
       "  <tbody>\n",
       "    <tr>\n",
       "      <th>0</th>\n",
       "      <td>2024-04-22 09:30:00</td>\n",
       "      <td>0</td>\n",
       "      <td>-1</td>\n",
       "      <td>-0.1265</td>\n",
       "      <td>NaN</td>\n",
       "      <td>-1.000000</td>\n",
       "      <td>-1.0</td>\n",
       "      <td>-1.00</td>\n",
       "      <td>-1.00</td>\n",
       "      <td>-1.00</td>\n",
       "      <td>...</td>\n",
       "      <td>-1.000</td>\n",
       "      <td>-1.000</td>\n",
       "      <td>-1.000</td>\n",
       "      <td>-1.000</td>\n",
       "      <td>-1.000</td>\n",
       "      <td>-1</td>\n",
       "      <td>-1</td>\n",
       "      <td>-1</td>\n",
       "      <td>-1</td>\n",
       "      <td>-1.000000</td>\n",
       "    </tr>\n",
       "    <tr>\n",
       "      <th>1</th>\n",
       "      <td>2024-04-22 09:35:00</td>\n",
       "      <td>1</td>\n",
       "      <td>0</td>\n",
       "      <td>0.0080</td>\n",
       "      <td>-0.1265</td>\n",
       "      <td>0.247937</td>\n",
       "      <td>628143.0</td>\n",
       "      <td>497.88</td>\n",
       "      <td>497.74</td>\n",
       "      <td>497.84</td>\n",
       "      <td>...</td>\n",
       "      <td>-0.342</td>\n",
       "      <td>-0.787</td>\n",
       "      <td>2.370</td>\n",
       "      <td>8.560</td>\n",
       "      <td>78.235</td>\n",
       "      <td>1</td>\n",
       "      <td>0</td>\n",
       "      <td>0</td>\n",
       "      <td>0</td>\n",
       "      <td>0.000000</td>\n",
       "    </tr>\n",
       "    <tr>\n",
       "      <th>2</th>\n",
       "      <td>2024-04-22 09:40:00</td>\n",
       "      <td>1</td>\n",
       "      <td>1</td>\n",
       "      <td>0.0080</td>\n",
       "      <td>0.0080</td>\n",
       "      <td>0.085825</td>\n",
       "      <td>206035.0</td>\n",
       "      <td>497.23</td>\n",
       "      <td>497.24</td>\n",
       "      <td>497.20</td>\n",
       "      <td>...</td>\n",
       "      <td>-0.335</td>\n",
       "      <td>-0.872</td>\n",
       "      <td>0.881</td>\n",
       "      <td>1.170</td>\n",
       "      <td>1.209</td>\n",
       "      <td>0</td>\n",
       "      <td>1</td>\n",
       "      <td>0</td>\n",
       "      <td>0</td>\n",
       "      <td>0.000000</td>\n",
       "    </tr>\n",
       "    <tr>\n",
       "      <th>3</th>\n",
       "      <td>2024-04-22 09:45:00</td>\n",
       "      <td>1</td>\n",
       "      <td>1</td>\n",
       "      <td>0.1287</td>\n",
       "      <td>0.0080</td>\n",
       "      <td>0.075736</td>\n",
       "      <td>166394.0</td>\n",
       "      <td>497.11</td>\n",
       "      <td>497.00</td>\n",
       "      <td>497.24</td>\n",
       "      <td>...</td>\n",
       "      <td>-0.027</td>\n",
       "      <td>-0.635</td>\n",
       "      <td>1.006</td>\n",
       "      <td>1.646</td>\n",
       "      <td>2.898</td>\n",
       "      <td>0</td>\n",
       "      <td>1</td>\n",
       "      <td>1</td>\n",
       "      <td>0</td>\n",
       "      <td>0.905946</td>\n",
       "    </tr>\n",
       "    <tr>\n",
       "      <th>4</th>\n",
       "      <td>2024-04-22 09:50:00</td>\n",
       "      <td>0</td>\n",
       "      <td>1</td>\n",
       "      <td>-0.0301</td>\n",
       "      <td>0.1287</td>\n",
       "      <td>0.036437</td>\n",
       "      <td>159041.0</td>\n",
       "      <td>497.43</td>\n",
       "      <td>497.60</td>\n",
       "      <td>497.29</td>\n",
       "      <td>...</td>\n",
       "      <td>0.199</td>\n",
       "      <td>-0.706</td>\n",
       "      <td>0.777</td>\n",
       "      <td>0.935</td>\n",
       "      <td>0.057</td>\n",
       "      <td>0</td>\n",
       "      <td>1</td>\n",
       "      <td>0</td>\n",
       "      <td>0</td>\n",
       "      <td>0.000000</td>\n",
       "    </tr>\n",
       "    <tr>\n",
       "      <th>...</th>\n",
       "      <td>...</td>\n",
       "      <td>...</td>\n",
       "      <td>...</td>\n",
       "      <td>...</td>\n",
       "      <td>...</td>\n",
       "      <td>...</td>\n",
       "      <td>...</td>\n",
       "      <td>...</td>\n",
       "      <td>...</td>\n",
       "      <td>...</td>\n",
       "      <td>...</td>\n",
       "      <td>...</td>\n",
       "      <td>...</td>\n",
       "      <td>...</td>\n",
       "      <td>...</td>\n",
       "      <td>...</td>\n",
       "      <td>...</td>\n",
       "      <td>...</td>\n",
       "      <td>...</td>\n",
       "      <td>...</td>\n",
       "      <td>...</td>\n",
       "    </tr>\n",
       "    <tr>\n",
       "      <th>775</th>\n",
       "      <td>2024-05-03 15:35:00</td>\n",
       "      <td>1</td>\n",
       "      <td>0</td>\n",
       "      <td>0.0704</td>\n",
       "      <td>-0.0801</td>\n",
       "      <td>0.109146</td>\n",
       "      <td>108085.0</td>\n",
       "      <td>511.48</td>\n",
       "      <td>511.48</td>\n",
       "      <td>511.63</td>\n",
       "      <td>...</td>\n",
       "      <td>0.047</td>\n",
       "      <td>-1.106</td>\n",
       "      <td>0.954</td>\n",
       "      <td>2.506</td>\n",
       "      <td>8.660</td>\n",
       "      <td>1</td>\n",
       "      <td>0</td>\n",
       "      <td>0</td>\n",
       "      <td>0</td>\n",
       "      <td>0.000000</td>\n",
       "    </tr>\n",
       "    <tr>\n",
       "      <th>776</th>\n",
       "      <td>2024-05-03 15:40:00</td>\n",
       "      <td>0</td>\n",
       "      <td>1</td>\n",
       "      <td>-0.0137</td>\n",
       "      <td>0.0704</td>\n",
       "      <td>0.066151</td>\n",
       "      <td>148962.0</td>\n",
       "      <td>511.57</td>\n",
       "      <td>511.56</td>\n",
       "      <td>511.22</td>\n",
       "      <td>...</td>\n",
       "      <td>-0.976</td>\n",
       "      <td>-0.134</td>\n",
       "      <td>0.994</td>\n",
       "      <td>1.220</td>\n",
       "      <td>0.818</td>\n",
       "      <td>0</td>\n",
       "      <td>1</td>\n",
       "      <td>0</td>\n",
       "      <td>0</td>\n",
       "      <td>0.000000</td>\n",
       "    </tr>\n",
       "    <tr>\n",
       "      <th>777</th>\n",
       "      <td>2024-05-03 15:45:00</td>\n",
       "      <td>0</td>\n",
       "      <td>0</td>\n",
       "      <td>-0.0665</td>\n",
       "      <td>-0.0137</td>\n",
       "      <td>0.110382</td>\n",
       "      <td>90649.0</td>\n",
       "      <td>511.51</td>\n",
       "      <td>511.49</td>\n",
       "      <td>511.58</td>\n",
       "      <td>...</td>\n",
       "      <td>0.775</td>\n",
       "      <td>-0.221</td>\n",
       "      <td>0.948</td>\n",
       "      <td>1.551</td>\n",
       "      <td>2.396</td>\n",
       "      <td>0</td>\n",
       "      <td>0</td>\n",
       "      <td>1</td>\n",
       "      <td>0</td>\n",
       "      <td>0.575009</td>\n",
       "    </tr>\n",
       "    <tr>\n",
       "      <th>778</th>\n",
       "      <td>2024-05-03 15:50:00</td>\n",
       "      <td>1</td>\n",
       "      <td>0</td>\n",
       "      <td>0.0685</td>\n",
       "      <td>-0.0665</td>\n",
       "      <td>0.089017</td>\n",
       "      <td>187493.0</td>\n",
       "      <td>511.50</td>\n",
       "      <td>511.50</td>\n",
       "      <td>511.51</td>\n",
       "      <td>...</td>\n",
       "      <td>-0.690</td>\n",
       "      <td>-0.326</td>\n",
       "      <td>0.935</td>\n",
       "      <td>1.016</td>\n",
       "      <td>0.284</td>\n",
       "      <td>1</td>\n",
       "      <td>0</td>\n",
       "      <td>0</td>\n",
       "      <td>0</td>\n",
       "      <td>0.000000</td>\n",
       "    </tr>\n",
       "    <tr>\n",
       "      <th>779</th>\n",
       "      <td>2024-05-03 15:55:00</td>\n",
       "      <td>0</td>\n",
       "      <td>1</td>\n",
       "      <td>-0.0430</td>\n",
       "      <td>0.0685</td>\n",
       "      <td>0.068252</td>\n",
       "      <td>341953.0</td>\n",
       "      <td>511.40</td>\n",
       "      <td>511.40</td>\n",
       "      <td>511.17</td>\n",
       "      <td>...</td>\n",
       "      <td>0.020</td>\n",
       "      <td>-0.730</td>\n",
       "      <td>0.859</td>\n",
       "      <td>1.252</td>\n",
       "      <td>1.373</td>\n",
       "      <td>0</td>\n",
       "      <td>1</td>\n",
       "      <td>0</td>\n",
       "      <td>0</td>\n",
       "      <td>0.000000</td>\n",
       "    </tr>\n",
       "  </tbody>\n",
       "</table>\n",
       "<p>780 rows × 33 columns</p>\n",
       "</div>"
      ],
      "text/plain": [
       "                  period  movement  movement_prev_period     chg  \\\n",
       "0    2024-04-22 09:30:00         0                    -1 -0.1265   \n",
       "1    2024-04-22 09:35:00         1                     0  0.0080   \n",
       "2    2024-04-22 09:40:00         1                     1  0.0080   \n",
       "3    2024-04-22 09:45:00         1                     1  0.1287   \n",
       "4    2024-04-22 09:50:00         0                     1 -0.0301   \n",
       "..                   ...       ...                   ...     ...   \n",
       "775  2024-05-03 15:35:00         1                     0  0.0704   \n",
       "776  2024-05-03 15:40:00         0                     1 -0.0137   \n",
       "777  2024-05-03 15:45:00         0                     0 -0.0665   \n",
       "778  2024-05-03 15:50:00         1                     0  0.0685   \n",
       "779  2024-05-03 15:55:00         0                     1 -0.0430   \n",
       "\n",
       "     chg_prev_period  vpoc_prev_period  total_volume_prev_period  \\\n",
       "0                NaN         -1.000000                      -1.0   \n",
       "1            -0.1265          0.247937                  628143.0   \n",
       "2             0.0080          0.085825                  206035.0   \n",
       "3             0.0080          0.075736                  166394.0   \n",
       "4             0.1287          0.036437                  159041.0   \n",
       "..               ...               ...                       ...   \n",
       "775          -0.0801          0.109146                  108085.0   \n",
       "776           0.0704          0.066151                  148962.0   \n",
       "777          -0.0137          0.110382                   90649.0   \n",
       "778          -0.0665          0.089017                  187493.0   \n",
       "779           0.0685          0.068252                  341953.0   \n",
       "\n",
       "     vpoc_price_prev_period  tpoc_price_prev_period  open_prev_period  ...  \\\n",
       "0                     -1.00                   -1.00             -1.00  ...   \n",
       "1                    497.88                  497.74            497.84  ...   \n",
       "2                    497.23                  497.24            497.20  ...   \n",
       "3                    497.11                  497.00            497.24  ...   \n",
       "4                    497.43                  497.60            497.29  ...   \n",
       "..                      ...                     ...               ...  ...   \n",
       "775                  511.48                  511.48            511.63  ...   \n",
       "776                  511.57                  511.56            511.22  ...   \n",
       "777                  511.51                  511.49            511.58  ...   \n",
       "778                  511.50                  511.50            511.51  ...   \n",
       "779                  511.40                  511.40            511.17  ...   \n",
       "\n",
       "     price_skew_prev_period  price_kurt_prev_period  vol_price_cv_prev_period  \\\n",
       "0                    -1.000                  -1.000                    -1.000   \n",
       "1                    -0.342                  -0.787                     2.370   \n",
       "2                    -0.335                  -0.872                     0.881   \n",
       "3                    -0.027                  -0.635                     1.006   \n",
       "4                     0.199                  -0.706                     0.777   \n",
       "..                      ...                     ...                       ...   \n",
       "775                   0.047                  -1.106                     0.954   \n",
       "776                  -0.976                  -0.134                     0.994   \n",
       "777                   0.775                  -0.221                     0.948   \n",
       "778                  -0.690                  -0.326                     0.935   \n",
       "779                   0.020                  -0.730                     0.859   \n",
       "\n",
       "     vol_price_skew_prev_period  vol_price_kurt_prev_period  \\\n",
       "0                        -1.000                      -1.000   \n",
       "1                         8.560                      78.235   \n",
       "2                         1.170                       1.209   \n",
       "3                         1.646                       2.898   \n",
       "4                         0.935                       0.057   \n",
       "..                          ...                         ...   \n",
       "775                       2.506                       8.660   \n",
       "776                       1.220                       0.818   \n",
       "777                       1.551                       2.396   \n",
       "778                       1.016                       0.284   \n",
       "779                       1.252                       1.373   \n",
       "\n",
       "     trapped_longs_prev_period  trapped_shorts_prev_period  \\\n",
       "0                           -1                          -1   \n",
       "1                            1                           0   \n",
       "2                            0                           1   \n",
       "3                            0                           1   \n",
       "4                            0                           1   \n",
       "..                         ...                         ...   \n",
       "775                          1                           0   \n",
       "776                          0                           1   \n",
       "777                          0                           0   \n",
       "778                          1                           0   \n",
       "779                          0                           1   \n",
       "\n",
       "     trapped_shorts_at_extremes_prev_period  \\\n",
       "0                                        -1   \n",
       "1                                         0   \n",
       "2                                         0   \n",
       "3                                         1   \n",
       "4                                         0   \n",
       "..                                      ...   \n",
       "775                                       0   \n",
       "776                                       0   \n",
       "777                                       1   \n",
       "778                                       0   \n",
       "779                                       0   \n",
       "\n",
       "     trapped_longs_at_extremes_prev_period  \\\n",
       "0                                       -1   \n",
       "1                                        0   \n",
       "2                                        0   \n",
       "3                                        0   \n",
       "4                                        0   \n",
       "..                                     ...   \n",
       "775                                      0   \n",
       "776                                      0   \n",
       "777                                      0   \n",
       "778                                      0   \n",
       "779                                      0   \n",
       "\n",
       "     trapped_at_extremes_volume_prev_period  \n",
       "0                                 -1.000000  \n",
       "1                                  0.000000  \n",
       "2                                  0.000000  \n",
       "3                                  0.905946  \n",
       "4                                  0.000000  \n",
       "..                                      ...  \n",
       "775                                0.000000  \n",
       "776                                0.000000  \n",
       "777                                0.575009  \n",
       "778                                0.000000  \n",
       "779                                0.000000  \n",
       "\n",
       "[780 rows x 33 columns]"
      ]
     },
     "execution_count": 30,
     "metadata": {},
     "output_type": "execute_result"
    }
   ],
   "source": [
    "df.iloc[:,3:] = df.iloc[:,3:].shift(1,fill_value=-1)\n",
    "df = df.rename(columns={c: c+\"_prev_period\" for c in df.columns if c not in ['period','movement','chg']})\n",
    "df.insert(2,'movement_prev_period',df.movement.shift(1, fill_value=-1))\n",
    "df.insert(4,'chg_prev_period',df.chg.shift(1))\n",
    "df"
   ]
  },
  {
   "cell_type": "code",
   "execution_count": 31,
   "metadata": {},
   "outputs": [
    {
     "data": {
      "text/html": [
       "<div>\n",
       "<style scoped>\n",
       "    .dataframe tbody tr th:only-of-type {\n",
       "        vertical-align: middle;\n",
       "    }\n",
       "\n",
       "    .dataframe tbody tr th {\n",
       "        vertical-align: top;\n",
       "    }\n",
       "\n",
       "    .dataframe thead th {\n",
       "        text-align: right;\n",
       "    }\n",
       "</style>\n",
       "<table border=\"1\" class=\"dataframe\">\n",
       "  <thead>\n",
       "    <tr style=\"text-align: right;\">\n",
       "      <th></th>\n",
       "      <th>movement</th>\n",
       "      <th>movement_prev_period</th>\n",
       "      <th>chg</th>\n",
       "      <th>chg_prev_period</th>\n",
       "      <th>vpoc_prev_period</th>\n",
       "      <th>total_volume_prev_period</th>\n",
       "      <th>vpoc_price_prev_period</th>\n",
       "      <th>tpoc_price_prev_period</th>\n",
       "      <th>open_prev_period</th>\n",
       "      <th>high_prev_period</th>\n",
       "      <th>...</th>\n",
       "      <th>price_skew_prev_period</th>\n",
       "      <th>price_kurt_prev_period</th>\n",
       "      <th>vol_price_cv_prev_period</th>\n",
       "      <th>vol_price_skew_prev_period</th>\n",
       "      <th>vol_price_kurt_prev_period</th>\n",
       "      <th>trapped_longs_prev_period</th>\n",
       "      <th>trapped_shorts_prev_period</th>\n",
       "      <th>trapped_shorts_at_extremes_prev_period</th>\n",
       "      <th>trapped_longs_at_extremes_prev_period</th>\n",
       "      <th>trapped_at_extremes_volume_prev_period</th>\n",
       "    </tr>\n",
       "    <tr>\n",
       "      <th>period</th>\n",
       "      <th></th>\n",
       "      <th></th>\n",
       "      <th></th>\n",
       "      <th></th>\n",
       "      <th></th>\n",
       "      <th></th>\n",
       "      <th></th>\n",
       "      <th></th>\n",
       "      <th></th>\n",
       "      <th></th>\n",
       "      <th></th>\n",
       "      <th></th>\n",
       "      <th></th>\n",
       "      <th></th>\n",
       "      <th></th>\n",
       "      <th></th>\n",
       "      <th></th>\n",
       "      <th></th>\n",
       "      <th></th>\n",
       "      <th></th>\n",
       "      <th></th>\n",
       "    </tr>\n",
       "  </thead>\n",
       "  <tbody>\n",
       "    <tr>\n",
       "      <th>2024-04-22 09:35:00</th>\n",
       "      <td>1</td>\n",
       "      <td>0</td>\n",
       "      <td>0.0080</td>\n",
       "      <td>-0.1265</td>\n",
       "      <td>0.247937</td>\n",
       "      <td>628143.0</td>\n",
       "      <td>497.88</td>\n",
       "      <td>497.74</td>\n",
       "      <td>497.84</td>\n",
       "      <td>498.07</td>\n",
       "      <td>...</td>\n",
       "      <td>-0.342</td>\n",
       "      <td>-0.787</td>\n",
       "      <td>2.370</td>\n",
       "      <td>8.560</td>\n",
       "      <td>78.235</td>\n",
       "      <td>1</td>\n",
       "      <td>0</td>\n",
       "      <td>0</td>\n",
       "      <td>0</td>\n",
       "      <td>0.000000</td>\n",
       "    </tr>\n",
       "    <tr>\n",
       "      <th>2024-04-22 09:40:00</th>\n",
       "      <td>1</td>\n",
       "      <td>1</td>\n",
       "      <td>0.0080</td>\n",
       "      <td>0.0080</td>\n",
       "      <td>0.085825</td>\n",
       "      <td>206035.0</td>\n",
       "      <td>497.23</td>\n",
       "      <td>497.24</td>\n",
       "      <td>497.20</td>\n",
       "      <td>497.33</td>\n",
       "      <td>...</td>\n",
       "      <td>-0.335</td>\n",
       "      <td>-0.872</td>\n",
       "      <td>0.881</td>\n",
       "      <td>1.170</td>\n",
       "      <td>1.209</td>\n",
       "      <td>0</td>\n",
       "      <td>1</td>\n",
       "      <td>0</td>\n",
       "      <td>0</td>\n",
       "      <td>0.000000</td>\n",
       "    </tr>\n",
       "    <tr>\n",
       "      <th>2024-04-22 09:45:00</th>\n",
       "      <td>1</td>\n",
       "      <td>1</td>\n",
       "      <td>0.1287</td>\n",
       "      <td>0.0080</td>\n",
       "      <td>0.075736</td>\n",
       "      <td>166394.0</td>\n",
       "      <td>497.11</td>\n",
       "      <td>497.00</td>\n",
       "      <td>497.24</td>\n",
       "      <td>497.34</td>\n",
       "      <td>...</td>\n",
       "      <td>-0.027</td>\n",
       "      <td>-0.635</td>\n",
       "      <td>1.006</td>\n",
       "      <td>1.646</td>\n",
       "      <td>2.898</td>\n",
       "      <td>0</td>\n",
       "      <td>1</td>\n",
       "      <td>1</td>\n",
       "      <td>0</td>\n",
       "      <td>0.905946</td>\n",
       "    </tr>\n",
       "    <tr>\n",
       "      <th>2024-04-22 09:50:00</th>\n",
       "      <td>0</td>\n",
       "      <td>1</td>\n",
       "      <td>-0.0301</td>\n",
       "      <td>0.1287</td>\n",
       "      <td>0.036437</td>\n",
       "      <td>159041.0</td>\n",
       "      <td>497.43</td>\n",
       "      <td>497.60</td>\n",
       "      <td>497.29</td>\n",
       "      <td>497.96</td>\n",
       "      <td>...</td>\n",
       "      <td>0.199</td>\n",
       "      <td>-0.706</td>\n",
       "      <td>0.777</td>\n",
       "      <td>0.935</td>\n",
       "      <td>0.057</td>\n",
       "      <td>0</td>\n",
       "      <td>1</td>\n",
       "      <td>0</td>\n",
       "      <td>0</td>\n",
       "      <td>0.000000</td>\n",
       "    </tr>\n",
       "    <tr>\n",
       "      <th>2024-04-22 09:55:00</th>\n",
       "      <td>0</td>\n",
       "      <td>0</td>\n",
       "      <td>-0.0442</td>\n",
       "      <td>-0.0301</td>\n",
       "      <td>0.082666</td>\n",
       "      <td>129267.0</td>\n",
       "      <td>498.00</td>\n",
       "      <td>497.86</td>\n",
       "      <td>497.94</td>\n",
       "      <td>498.01</td>\n",
       "      <td>...</td>\n",
       "      <td>0.304</td>\n",
       "      <td>-0.391</td>\n",
       "      <td>0.806</td>\n",
       "      <td>0.777</td>\n",
       "      <td>-0.466</td>\n",
       "      <td>1</td>\n",
       "      <td>0</td>\n",
       "      <td>0</td>\n",
       "      <td>0</td>\n",
       "      <td>0.000000</td>\n",
       "    </tr>\n",
       "    <tr>\n",
       "      <th>...</th>\n",
       "      <td>...</td>\n",
       "      <td>...</td>\n",
       "      <td>...</td>\n",
       "      <td>...</td>\n",
       "      <td>...</td>\n",
       "      <td>...</td>\n",
       "      <td>...</td>\n",
       "      <td>...</td>\n",
       "      <td>...</td>\n",
       "      <td>...</td>\n",
       "      <td>...</td>\n",
       "      <td>...</td>\n",
       "      <td>...</td>\n",
       "      <td>...</td>\n",
       "      <td>...</td>\n",
       "      <td>...</td>\n",
       "      <td>...</td>\n",
       "      <td>...</td>\n",
       "      <td>...</td>\n",
       "      <td>...</td>\n",
       "      <td>...</td>\n",
       "    </tr>\n",
       "    <tr>\n",
       "      <th>2024-05-03 15:35:00</th>\n",
       "      <td>1</td>\n",
       "      <td>0</td>\n",
       "      <td>0.0704</td>\n",
       "      <td>-0.0801</td>\n",
       "      <td>0.109146</td>\n",
       "      <td>108085.0</td>\n",
       "      <td>511.48</td>\n",
       "      <td>511.48</td>\n",
       "      <td>511.63</td>\n",
       "      <td>511.65</td>\n",
       "      <td>...</td>\n",
       "      <td>0.047</td>\n",
       "      <td>-1.106</td>\n",
       "      <td>0.954</td>\n",
       "      <td>2.506</td>\n",
       "      <td>8.660</td>\n",
       "      <td>1</td>\n",
       "      <td>0</td>\n",
       "      <td>0</td>\n",
       "      <td>0</td>\n",
       "      <td>0.000000</td>\n",
       "    </tr>\n",
       "    <tr>\n",
       "      <th>2024-05-03 15:40:00</th>\n",
       "      <td>0</td>\n",
       "      <td>1</td>\n",
       "      <td>-0.0137</td>\n",
       "      <td>0.0704</td>\n",
       "      <td>0.066151</td>\n",
       "      <td>148962.0</td>\n",
       "      <td>511.57</td>\n",
       "      <td>511.56</td>\n",
       "      <td>511.22</td>\n",
       "      <td>511.75</td>\n",
       "      <td>...</td>\n",
       "      <td>-0.976</td>\n",
       "      <td>-0.134</td>\n",
       "      <td>0.994</td>\n",
       "      <td>1.220</td>\n",
       "      <td>0.818</td>\n",
       "      <td>0</td>\n",
       "      <td>1</td>\n",
       "      <td>0</td>\n",
       "      <td>0</td>\n",
       "      <td>0.000000</td>\n",
       "    </tr>\n",
       "    <tr>\n",
       "      <th>2024-05-03 15:45:00</th>\n",
       "      <td>0</td>\n",
       "      <td>0</td>\n",
       "      <td>-0.0665</td>\n",
       "      <td>-0.0137</td>\n",
       "      <td>0.110382</td>\n",
       "      <td>90649.0</td>\n",
       "      <td>511.51</td>\n",
       "      <td>511.49</td>\n",
       "      <td>511.58</td>\n",
       "      <td>511.74</td>\n",
       "      <td>...</td>\n",
       "      <td>0.775</td>\n",
       "      <td>-0.221</td>\n",
       "      <td>0.948</td>\n",
       "      <td>1.551</td>\n",
       "      <td>2.396</td>\n",
       "      <td>0</td>\n",
       "      <td>0</td>\n",
       "      <td>1</td>\n",
       "      <td>0</td>\n",
       "      <td>0.575009</td>\n",
       "    </tr>\n",
       "    <tr>\n",
       "      <th>2024-05-03 15:50:00</th>\n",
       "      <td>1</td>\n",
       "      <td>0</td>\n",
       "      <td>0.0685</td>\n",
       "      <td>-0.0665</td>\n",
       "      <td>0.089017</td>\n",
       "      <td>187493.0</td>\n",
       "      <td>511.50</td>\n",
       "      <td>511.50</td>\n",
       "      <td>511.51</td>\n",
       "      <td>511.57</td>\n",
       "      <td>...</td>\n",
       "      <td>-0.690</td>\n",
       "      <td>-0.326</td>\n",
       "      <td>0.935</td>\n",
       "      <td>1.016</td>\n",
       "      <td>0.284</td>\n",
       "      <td>1</td>\n",
       "      <td>0</td>\n",
       "      <td>0</td>\n",
       "      <td>0</td>\n",
       "      <td>0.000000</td>\n",
       "    </tr>\n",
       "    <tr>\n",
       "      <th>2024-05-03 15:55:00</th>\n",
       "      <td>0</td>\n",
       "      <td>1</td>\n",
       "      <td>-0.0430</td>\n",
       "      <td>0.0685</td>\n",
       "      <td>0.068252</td>\n",
       "      <td>341953.0</td>\n",
       "      <td>511.40</td>\n",
       "      <td>511.40</td>\n",
       "      <td>511.17</td>\n",
       "      <td>511.72</td>\n",
       "      <td>...</td>\n",
       "      <td>0.020</td>\n",
       "      <td>-0.730</td>\n",
       "      <td>0.859</td>\n",
       "      <td>1.252</td>\n",
       "      <td>1.373</td>\n",
       "      <td>0</td>\n",
       "      <td>1</td>\n",
       "      <td>0</td>\n",
       "      <td>0</td>\n",
       "      <td>0.000000</td>\n",
       "    </tr>\n",
       "  </tbody>\n",
       "</table>\n",
       "<p>770 rows × 32 columns</p>\n",
       "</div>"
      ],
      "text/plain": [
       "                     movement  movement_prev_period     chg  chg_prev_period  \\\n",
       "period                                                                         \n",
       "2024-04-22 09:35:00         1                     0  0.0080          -0.1265   \n",
       "2024-04-22 09:40:00         1                     1  0.0080           0.0080   \n",
       "2024-04-22 09:45:00         1                     1  0.1287           0.0080   \n",
       "2024-04-22 09:50:00         0                     1 -0.0301           0.1287   \n",
       "2024-04-22 09:55:00         0                     0 -0.0442          -0.0301   \n",
       "...                       ...                   ...     ...              ...   \n",
       "2024-05-03 15:35:00         1                     0  0.0704          -0.0801   \n",
       "2024-05-03 15:40:00         0                     1 -0.0137           0.0704   \n",
       "2024-05-03 15:45:00         0                     0 -0.0665          -0.0137   \n",
       "2024-05-03 15:50:00         1                     0  0.0685          -0.0665   \n",
       "2024-05-03 15:55:00         0                     1 -0.0430           0.0685   \n",
       "\n",
       "                     vpoc_prev_period  total_volume_prev_period  \\\n",
       "period                                                            \n",
       "2024-04-22 09:35:00          0.247937                  628143.0   \n",
       "2024-04-22 09:40:00          0.085825                  206035.0   \n",
       "2024-04-22 09:45:00          0.075736                  166394.0   \n",
       "2024-04-22 09:50:00          0.036437                  159041.0   \n",
       "2024-04-22 09:55:00          0.082666                  129267.0   \n",
       "...                               ...                       ...   \n",
       "2024-05-03 15:35:00          0.109146                  108085.0   \n",
       "2024-05-03 15:40:00          0.066151                  148962.0   \n",
       "2024-05-03 15:45:00          0.110382                   90649.0   \n",
       "2024-05-03 15:50:00          0.089017                  187493.0   \n",
       "2024-05-03 15:55:00          0.068252                  341953.0   \n",
       "\n",
       "                     vpoc_price_prev_period  tpoc_price_prev_period  \\\n",
       "period                                                                \n",
       "2024-04-22 09:35:00                  497.88                  497.74   \n",
       "2024-04-22 09:40:00                  497.23                  497.24   \n",
       "2024-04-22 09:45:00                  497.11                  497.00   \n",
       "2024-04-22 09:50:00                  497.43                  497.60   \n",
       "2024-04-22 09:55:00                  498.00                  497.86   \n",
       "...                                     ...                     ...   \n",
       "2024-05-03 15:35:00                  511.48                  511.48   \n",
       "2024-05-03 15:40:00                  511.57                  511.56   \n",
       "2024-05-03 15:45:00                  511.51                  511.49   \n",
       "2024-05-03 15:50:00                  511.50                  511.50   \n",
       "2024-05-03 15:55:00                  511.40                  511.40   \n",
       "\n",
       "                     open_prev_period  high_prev_period  ...  \\\n",
       "period                                                   ...   \n",
       "2024-04-22 09:35:00            497.84            498.07  ...   \n",
       "2024-04-22 09:40:00            497.20            497.33  ...   \n",
       "2024-04-22 09:45:00            497.24            497.34  ...   \n",
       "2024-04-22 09:50:00            497.29            497.96  ...   \n",
       "2024-04-22 09:55:00            497.94            498.01  ...   \n",
       "...                               ...               ...  ...   \n",
       "2024-05-03 15:35:00            511.63            511.65  ...   \n",
       "2024-05-03 15:40:00            511.22            511.75  ...   \n",
       "2024-05-03 15:45:00            511.58            511.74  ...   \n",
       "2024-05-03 15:50:00            511.51            511.57  ...   \n",
       "2024-05-03 15:55:00            511.17            511.72  ...   \n",
       "\n",
       "                     price_skew_prev_period  price_kurt_prev_period  \\\n",
       "period                                                                \n",
       "2024-04-22 09:35:00                  -0.342                  -0.787   \n",
       "2024-04-22 09:40:00                  -0.335                  -0.872   \n",
       "2024-04-22 09:45:00                  -0.027                  -0.635   \n",
       "2024-04-22 09:50:00                   0.199                  -0.706   \n",
       "2024-04-22 09:55:00                   0.304                  -0.391   \n",
       "...                                     ...                     ...   \n",
       "2024-05-03 15:35:00                   0.047                  -1.106   \n",
       "2024-05-03 15:40:00                  -0.976                  -0.134   \n",
       "2024-05-03 15:45:00                   0.775                  -0.221   \n",
       "2024-05-03 15:50:00                  -0.690                  -0.326   \n",
       "2024-05-03 15:55:00                   0.020                  -0.730   \n",
       "\n",
       "                     vol_price_cv_prev_period  vol_price_skew_prev_period  \\\n",
       "period                                                                      \n",
       "2024-04-22 09:35:00                     2.370                       8.560   \n",
       "2024-04-22 09:40:00                     0.881                       1.170   \n",
       "2024-04-22 09:45:00                     1.006                       1.646   \n",
       "2024-04-22 09:50:00                     0.777                       0.935   \n",
       "2024-04-22 09:55:00                     0.806                       0.777   \n",
       "...                                       ...                         ...   \n",
       "2024-05-03 15:35:00                     0.954                       2.506   \n",
       "2024-05-03 15:40:00                     0.994                       1.220   \n",
       "2024-05-03 15:45:00                     0.948                       1.551   \n",
       "2024-05-03 15:50:00                     0.935                       1.016   \n",
       "2024-05-03 15:55:00                     0.859                       1.252   \n",
       "\n",
       "                     vol_price_kurt_prev_period  trapped_longs_prev_period  \\\n",
       "period                                                                       \n",
       "2024-04-22 09:35:00                      78.235                          1   \n",
       "2024-04-22 09:40:00                       1.209                          0   \n",
       "2024-04-22 09:45:00                       2.898                          0   \n",
       "2024-04-22 09:50:00                       0.057                          0   \n",
       "2024-04-22 09:55:00                      -0.466                          1   \n",
       "...                                         ...                        ...   \n",
       "2024-05-03 15:35:00                       8.660                          1   \n",
       "2024-05-03 15:40:00                       0.818                          0   \n",
       "2024-05-03 15:45:00                       2.396                          0   \n",
       "2024-05-03 15:50:00                       0.284                          1   \n",
       "2024-05-03 15:55:00                       1.373                          0   \n",
       "\n",
       "                     trapped_shorts_prev_period  \\\n",
       "period                                            \n",
       "2024-04-22 09:35:00                           0   \n",
       "2024-04-22 09:40:00                           1   \n",
       "2024-04-22 09:45:00                           1   \n",
       "2024-04-22 09:50:00                           1   \n",
       "2024-04-22 09:55:00                           0   \n",
       "...                                         ...   \n",
       "2024-05-03 15:35:00                           0   \n",
       "2024-05-03 15:40:00                           1   \n",
       "2024-05-03 15:45:00                           0   \n",
       "2024-05-03 15:50:00                           0   \n",
       "2024-05-03 15:55:00                           1   \n",
       "\n",
       "                     trapped_shorts_at_extremes_prev_period  \\\n",
       "period                                                        \n",
       "2024-04-22 09:35:00                                       0   \n",
       "2024-04-22 09:40:00                                       0   \n",
       "2024-04-22 09:45:00                                       1   \n",
       "2024-04-22 09:50:00                                       0   \n",
       "2024-04-22 09:55:00                                       0   \n",
       "...                                                     ...   \n",
       "2024-05-03 15:35:00                                       0   \n",
       "2024-05-03 15:40:00                                       0   \n",
       "2024-05-03 15:45:00                                       1   \n",
       "2024-05-03 15:50:00                                       0   \n",
       "2024-05-03 15:55:00                                       0   \n",
       "\n",
       "                     trapped_longs_at_extremes_prev_period  \\\n",
       "period                                                       \n",
       "2024-04-22 09:35:00                                      0   \n",
       "2024-04-22 09:40:00                                      0   \n",
       "2024-04-22 09:45:00                                      0   \n",
       "2024-04-22 09:50:00                                      0   \n",
       "2024-04-22 09:55:00                                      0   \n",
       "...                                                    ...   \n",
       "2024-05-03 15:35:00                                      0   \n",
       "2024-05-03 15:40:00                                      0   \n",
       "2024-05-03 15:45:00                                      0   \n",
       "2024-05-03 15:50:00                                      0   \n",
       "2024-05-03 15:55:00                                      0   \n",
       "\n",
       "                     trapped_at_extremes_volume_prev_period  \n",
       "period                                                       \n",
       "2024-04-22 09:35:00                                0.000000  \n",
       "2024-04-22 09:40:00                                0.000000  \n",
       "2024-04-22 09:45:00                                0.905946  \n",
       "2024-04-22 09:50:00                                0.000000  \n",
       "2024-04-22 09:55:00                                0.000000  \n",
       "...                                                     ...  \n",
       "2024-05-03 15:35:00                                0.000000  \n",
       "2024-05-03 15:40:00                                0.000000  \n",
       "2024-05-03 15:45:00                                0.575009  \n",
       "2024-05-03 15:50:00                                0.000000  \n",
       "2024-05-03 15:55:00                                0.000000  \n",
       "\n",
       "[770 rows x 32 columns]"
      ]
     },
     "execution_count": 31,
     "metadata": {},
     "output_type": "execute_result"
    }
   ],
   "source": [
    "df = df[~df['period'].str.contains('09:30:00')].dropna().set_index('period')\n",
    "df.index = pd.to_datetime(df.index)\n",
    "df"
   ]
  },
  {
   "cell_type": "code",
   "execution_count": 32,
   "metadata": {},
   "outputs": [
    {
     "data": {
      "text/html": [
       "<div>\n",
       "<style scoped>\n",
       "    .dataframe tbody tr th:only-of-type {\n",
       "        vertical-align: middle;\n",
       "    }\n",
       "\n",
       "    .dataframe tbody tr th {\n",
       "        vertical-align: top;\n",
       "    }\n",
       "\n",
       "    .dataframe thead th {\n",
       "        text-align: right;\n",
       "    }\n",
       "</style>\n",
       "<table border=\"1\" class=\"dataframe\">\n",
       "  <thead>\n",
       "    <tr style=\"text-align: right;\">\n",
       "      <th></th>\n",
       "      <th>price</th>\n",
       "      <th>volume</th>\n",
       "    </tr>\n",
       "    <tr>\n",
       "      <th>timestamp</th>\n",
       "      <th></th>\n",
       "      <th></th>\n",
       "    </tr>\n",
       "  </thead>\n",
       "  <tbody>\n",
       "    <tr>\n",
       "      <th>2024-04-22 09:30:00</th>\n",
       "      <td>497.84</td>\n",
       "      <td>100.0</td>\n",
       "    </tr>\n",
       "    <tr>\n",
       "      <th>2024-04-22 09:30:00</th>\n",
       "      <td>497.88</td>\n",
       "      <td>145191.0</td>\n",
       "    </tr>\n",
       "    <tr>\n",
       "      <th>2024-04-22 09:30:00</th>\n",
       "      <td>497.85</td>\n",
       "      <td>1.0</td>\n",
       "    </tr>\n",
       "    <tr>\n",
       "      <th>2024-04-22 09:30:00</th>\n",
       "      <td>497.85</td>\n",
       "      <td>1.0</td>\n",
       "    </tr>\n",
       "    <tr>\n",
       "      <th>2024-04-22 09:30:00</th>\n",
       "      <td>497.85</td>\n",
       "      <td>2.0</td>\n",
       "    </tr>\n",
       "    <tr>\n",
       "      <th>...</th>\n",
       "      <td>...</td>\n",
       "      <td>...</td>\n",
       "    </tr>\n",
       "    <tr>\n",
       "      <th>2024-05-03 15:59:59</th>\n",
       "      <td>511.28</td>\n",
       "      <td>200.0</td>\n",
       "    </tr>\n",
       "    <tr>\n",
       "      <th>2024-05-03 15:59:59</th>\n",
       "      <td>511.28</td>\n",
       "      <td>200.0</td>\n",
       "    </tr>\n",
       "    <tr>\n",
       "      <th>2024-05-03 15:59:59</th>\n",
       "      <td>511.30</td>\n",
       "      <td>100.0</td>\n",
       "    </tr>\n",
       "    <tr>\n",
       "      <th>2024-05-03 15:59:59</th>\n",
       "      <td>511.29</td>\n",
       "      <td>100.0</td>\n",
       "    </tr>\n",
       "    <tr>\n",
       "      <th>2024-05-03 15:59:59</th>\n",
       "      <td>511.29</td>\n",
       "      <td>100.0</td>\n",
       "    </tr>\n",
       "  </tbody>\n",
       "</table>\n",
       "<p>978581 rows × 2 columns</p>\n",
       "</div>"
      ],
      "text/plain": [
       "                      price    volume\n",
       "timestamp                            \n",
       "2024-04-22 09:30:00  497.84     100.0\n",
       "2024-04-22 09:30:00  497.88  145191.0\n",
       "2024-04-22 09:30:00  497.85       1.0\n",
       "2024-04-22 09:30:00  497.85       1.0\n",
       "2024-04-22 09:30:00  497.85       2.0\n",
       "...                     ...       ...\n",
       "2024-05-03 15:59:59  511.28     200.0\n",
       "2024-05-03 15:59:59  511.28     200.0\n",
       "2024-05-03 15:59:59  511.30     100.0\n",
       "2024-05-03 15:59:59  511.29     100.0\n",
       "2024-05-03 15:59:59  511.29     100.0\n",
       "\n",
       "[978581 rows x 2 columns]"
      ]
     },
     "execution_count": 32,
     "metadata": {},
     "output_type": "execute_result"
    }
   ],
   "source": [
    "historical_spy_trades = pd.read_csv('historical_spy_trades.csv',index_col=0)\n",
    "historical_spy_trades.index = pd.to_datetime(historical_spy_trades.index)\n",
    "historical_spy_trades = historical_spy_trades.tz_localize(None)\n",
    "historical_spy_trades"
   ]
  },
  {
   "cell_type": "code",
   "execution_count": 33,
   "metadata": {},
   "outputs": [],
   "source": [
    "encoder = LabelEncoder()\n",
    "df['period_idx'] = encoder.fit_transform(df.index.time)"
   ]
  },
  {
   "cell_type": "code",
   "execution_count": 34,
   "metadata": {},
   "outputs": [
    {
     "data": {
      "text/plain": [
       "((156, 33), (156, 33))"
      ]
     },
     "execution_count": 34,
     "metadata": {},
     "output_type": "execute_result"
    }
   ],
   "source": [
    "tshorts = df[df.trapped_shorts_at_extremes_prev_period==1]\n",
    "tlongs = df[df.trapped_longs_at_extremes_prev_period==1]\n",
    "tshorts.shape, tlongs.shape"
   ]
  },
  {
   "cell_type": "code",
   "execution_count": 35,
   "metadata": {},
   "outputs": [],
   "source": [
    "days = df.index.date\n",
    "\n",
    "for day in days:\n",
    "    volume_at_930 = df.loc[str(day) + \" 09:35:00\", 'total_volume_prev_period']\n",
    "    vpoc_at_930 = df.loc[str(day) + \" 09:35:00\", 'vpoc_prev_period']\n",
    "\n",
    "    # relative_volume_to_930\n",
    "    df.loc[str(day):str(day) + \" \", 'relative_volume_to_930'] = df.loc[str(day):str(day) + \" \", 'total_volume_prev_period'] / volume_at_930\n",
    "\n",
    "    # relative_volume_to_prev\n",
    "    df.loc[str(day):str(day) + \" \", 'relative_volume_prev_period'] = df.loc[str(day):str(day) + \" \", 'total_volume_prev_period'] / df.loc[str(day):str(day) + \" \", 'total_volume_prev_period'].shift(1,fill_value=volume_at_930)\n",
    "\n",
    "    # # relative_vpoc_prev_period\n",
    "    # df.loc[str(day):str(day) + \" \", 'relative_vpoc_prev_period'] = df.loc[str(day):str(day) + \" \", 'vpoc_prev_period'] / df.loc[str(day):str(day) + \" \", 'vpoc_prev_period'].shift(1,fill_value=vpoc_at_930)    "
   ]
  },
  {
   "cell_type": "code",
   "execution_count": 36,
   "metadata": {},
   "outputs": [
    {
     "name": "stdout",
     "output_type": "stream",
     "text": [
      "success\n",
      "0    88\n",
      "1    68\n",
      "Name: count, dtype: int64 success\n",
      "1    92\n",
      "0    64\n",
      "Name: count, dtype: int64\n",
      "success\n",
      "0    0.564103\n",
      "1    0.435897\n",
      "Name: proportion, dtype: float64 success\n",
      "1    0.589744\n",
      "0    0.410256\n",
      "Name: proportion, dtype: float64\n"
     ]
    }
   ],
   "source": [
    "MAX_TRADE_DURATION = 15 #mins\n",
    "TP_SHORT = 1 #dollars\n",
    "SL_SHORT = 1 #dollars\n",
    "TP_LONG = 1 #dollars\n",
    "SL_LONG = 1 #dollars\n",
    "\n",
    "# df = df.loc[\"2024-05-03\"]\n",
    "\n",
    "df['success'] = 0\n",
    "\n",
    "for period in df.index:\n",
    "    entry_zone = df.loc[period]\n",
    "    trading_zone = historical_spy_trades.loc[period:period+dt.timedelta(minutes=MAX_TRADE_DURATION)]\n",
    "    entry_price = trading_zone.price.values[0]\n",
    "\n",
    "    if entry_zone.trapped_shorts_at_extremes_prev_period:\n",
    "        \n",
    "        stop_loss, stop_loss_period = (entry_price - trading_zone.price >= SL_LONG).any(), (entry_price - trading_zone.price >= SL_LONG).idxmax()\n",
    "        take_profit, take_profit_period = (trading_zone.price - entry_price >= TP_LONG).any(), (trading_zone.price - entry_price >= TP_LONG).idxmax()\n",
    "        \n",
    "        if take_profit and not stop_loss:\n",
    "            df.loc[period,'success'] = 1\n",
    "        elif take_profit and stop_loss and take_profit_period < stop_loss_period:\n",
    "            df.loc[period,'success'] = 1\n",
    "        elif not take_profit and not stop_loss:\n",
    "            df.loc[period,'success'] = max(0,np.sign(trading_zone.iloc[-1].price - entry_price))\n",
    "\n",
    "    elif entry_zone.trapped_longs_at_extremes_prev_period:\n",
    "        \n",
    "        stop_loss, stop_loss_period = (trading_zone.price - entry_price >= SL_SHORT).any(), (trading_zone.price - entry_price >= SL_SHORT).idxmax()\n",
    "        take_profit, take_profit_period = (entry_price - trading_zone.price >= TP_SHORT).any(), (entry_price - trading_zone.price >= TP_SHORT).idxmax()\n",
    "\n",
    "        if take_profit and not stop_loss:\n",
    "            df.loc[period,'success'] = 1\n",
    "        elif take_profit and stop_loss and take_profit_period < stop_loss_period:\n",
    "            df.loc[period,'success'] = 1\n",
    "        elif not take_profit and not stop_loss:\n",
    "            df.loc[period,'success'] = max(0,np.sign(entry_price - trading_zone.iloc[-1].price))\n",
    "\n",
    "print(df[df.trapped_longs_at_extremes_prev_period==1].success.value_counts(), df[df.trapped_shorts_at_extremes_prev_period==1].success.value_counts())\n",
    "print(df[df.trapped_longs_at_extremes_prev_period==1].success.value_counts(normalize=True), df[df.trapped_shorts_at_extremes_prev_period==1].success.value_counts(normalize=True))"
   ]
  },
  {
   "cell_type": "code",
   "execution_count": 37,
   "metadata": {},
   "outputs": [],
   "source": [
    "df.to_csv('spy_engineered_v4.csv')"
   ]
  },
  {
   "cell_type": "code",
   "execution_count": null,
   "metadata": {},
   "outputs": [],
   "source": []
  }
 ],
 "metadata": {
  "kernelspec": {
   "display_name": "venv",
   "language": "python",
   "name": "python3"
  },
  "language_info": {
   "codemirror_mode": {
    "name": "ipython",
    "version": 3
   },
   "file_extension": ".py",
   "mimetype": "text/x-python",
   "name": "python",
   "nbconvert_exporter": "python",
   "pygments_lexer": "ipython3",
   "version": "3.10.2"
  }
 },
 "nbformat": 4,
 "nbformat_minor": 2
}
